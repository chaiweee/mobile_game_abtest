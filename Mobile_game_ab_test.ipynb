{
 "cells": [
  {
   "cell_type": "markdown",
   "id": "d269ef48",
   "metadata": {},
   "source": [
    "# Mobile Games A/B Testing - Cookie Cats\n",
    "\n",
    "## Introduction\n",
    "This ab test will be focusing on how gate placement in the game Cookie Cats affects user retention. When we move the first gate from level 30 to level 40, how are players going to impact?  \n",
    "\n",
    "## About Dataset\n",
    "### Context\n",
    "This dataset includes A/B test results of Cookie Cats to examine what happens when the first gate in the game was moved from level 30 to level 40. When a player installed the game, he or she was randomly assigned to either gate_30 or gate_40.  \n",
    "\n",
    "### Content\n",
    "The data we have is from 90,189 players that installed the game while the AB-test was running. The variables are:\n",
    "\n",
    "**userid:** A unique number that identifies each player.  \n",
    "**version:** Whether the player was put in the control group (gate_30 - a gate at level 30) or the group with the moved gate (gate_40 - a gate at level 40).  \n",
    "**sum_gamerounds:** the number of game rounds played by the player during the first 14 days after install.  \n",
    "**retention_1:** Did the player come back and play 1 day after installing?  \n",
    "**retention_7:** Did the player come back and play 7 days after installing?  \n",
    "\n",
    "When a player installed the game, he or she was randomly assigned to either.   \n",
    "\n"
   ]
  },
  {
   "cell_type": "code",
   "execution_count": 1,
   "id": "0d8cc425",
   "metadata": {},
   "outputs": [],
   "source": [
    "import pandas as pd\n",
    "import numpy as np\n",
    "import matplotlib.pyplot as plt"
   ]
  },
  {
   "cell_type": "code",
   "execution_count": 2,
   "id": "f3325acc",
   "metadata": {},
   "outputs": [
    {
     "data": {
      "text/html": [
       "<div>\n",
       "<style scoped>\n",
       "    .dataframe tbody tr th:only-of-type {\n",
       "        vertical-align: middle;\n",
       "    }\n",
       "\n",
       "    .dataframe tbody tr th {\n",
       "        vertical-align: top;\n",
       "    }\n",
       "\n",
       "    .dataframe thead th {\n",
       "        text-align: right;\n",
       "    }\n",
       "</style>\n",
       "<table border=\"1\" class=\"dataframe\">\n",
       "  <thead>\n",
       "    <tr style=\"text-align: right;\">\n",
       "      <th></th>\n",
       "      <th>userid</th>\n",
       "      <th>version</th>\n",
       "      <th>sum_gamerounds</th>\n",
       "      <th>retention_1</th>\n",
       "      <th>retention_7</th>\n",
       "    </tr>\n",
       "  </thead>\n",
       "  <tbody>\n",
       "    <tr>\n",
       "      <th>0</th>\n",
       "      <td>116</td>\n",
       "      <td>gate_30</td>\n",
       "      <td>3</td>\n",
       "      <td>False</td>\n",
       "      <td>False</td>\n",
       "    </tr>\n",
       "    <tr>\n",
       "      <th>1</th>\n",
       "      <td>337</td>\n",
       "      <td>gate_30</td>\n",
       "      <td>38</td>\n",
       "      <td>True</td>\n",
       "      <td>False</td>\n",
       "    </tr>\n",
       "    <tr>\n",
       "      <th>2</th>\n",
       "      <td>377</td>\n",
       "      <td>gate_40</td>\n",
       "      <td>165</td>\n",
       "      <td>True</td>\n",
       "      <td>False</td>\n",
       "    </tr>\n",
       "    <tr>\n",
       "      <th>3</th>\n",
       "      <td>483</td>\n",
       "      <td>gate_40</td>\n",
       "      <td>1</td>\n",
       "      <td>False</td>\n",
       "      <td>False</td>\n",
       "    </tr>\n",
       "    <tr>\n",
       "      <th>4</th>\n",
       "      <td>488</td>\n",
       "      <td>gate_40</td>\n",
       "      <td>179</td>\n",
       "      <td>True</td>\n",
       "      <td>True</td>\n",
       "    </tr>\n",
       "    <tr>\n",
       "      <th>...</th>\n",
       "      <td>...</td>\n",
       "      <td>...</td>\n",
       "      <td>...</td>\n",
       "      <td>...</td>\n",
       "      <td>...</td>\n",
       "    </tr>\n",
       "    <tr>\n",
       "      <th>90184</th>\n",
       "      <td>9999441</td>\n",
       "      <td>gate_40</td>\n",
       "      <td>97</td>\n",
       "      <td>True</td>\n",
       "      <td>False</td>\n",
       "    </tr>\n",
       "    <tr>\n",
       "      <th>90185</th>\n",
       "      <td>9999479</td>\n",
       "      <td>gate_40</td>\n",
       "      <td>30</td>\n",
       "      <td>False</td>\n",
       "      <td>False</td>\n",
       "    </tr>\n",
       "    <tr>\n",
       "      <th>90186</th>\n",
       "      <td>9999710</td>\n",
       "      <td>gate_30</td>\n",
       "      <td>28</td>\n",
       "      <td>True</td>\n",
       "      <td>False</td>\n",
       "    </tr>\n",
       "    <tr>\n",
       "      <th>90187</th>\n",
       "      <td>9999768</td>\n",
       "      <td>gate_40</td>\n",
       "      <td>51</td>\n",
       "      <td>True</td>\n",
       "      <td>False</td>\n",
       "    </tr>\n",
       "    <tr>\n",
       "      <th>90188</th>\n",
       "      <td>9999861</td>\n",
       "      <td>gate_40</td>\n",
       "      <td>16</td>\n",
       "      <td>False</td>\n",
       "      <td>False</td>\n",
       "    </tr>\n",
       "  </tbody>\n",
       "</table>\n",
       "<p>90189 rows × 5 columns</p>\n",
       "</div>"
      ],
      "text/plain": [
       "        userid  version  sum_gamerounds  retention_1  retention_7\n",
       "0          116  gate_30               3        False        False\n",
       "1          337  gate_30              38         True        False\n",
       "2          377  gate_40             165         True        False\n",
       "3          483  gate_40               1        False        False\n",
       "4          488  gate_40             179         True         True\n",
       "...        ...      ...             ...          ...          ...\n",
       "90184  9999441  gate_40              97         True        False\n",
       "90185  9999479  gate_40              30        False        False\n",
       "90186  9999710  gate_30              28         True        False\n",
       "90187  9999768  gate_40              51         True        False\n",
       "90188  9999861  gate_40              16        False        False\n",
       "\n",
       "[90189 rows x 5 columns]"
      ]
     },
     "execution_count": 2,
     "metadata": {},
     "output_type": "execute_result"
    }
   ],
   "source": [
    "df = pd.read_csv('cookie_cats.csv')\n",
    "df"
   ]
  },
  {
   "cell_type": "markdown",
   "id": "5d8a90a8",
   "metadata": {},
   "source": [
    "## 1. check for missing values and duplicates"
   ]
  },
  {
   "cell_type": "code",
   "execution_count": 4,
   "id": "35cc0e04",
   "metadata": {},
   "outputs": [
    {
     "data": {
      "text/plain": [
       "userid            0\n",
       "version           0\n",
       "sum_gamerounds    0\n",
       "retention_1       0\n",
       "retention_7       0\n",
       "dtype: int64"
      ]
     },
     "execution_count": 4,
     "metadata": {},
     "output_type": "execute_result"
    }
   ],
   "source": [
    "df.isna().sum()"
   ]
  },
  {
   "cell_type": "code",
   "execution_count": 5,
   "id": "ef0f7ba2",
   "metadata": {},
   "outputs": [
    {
     "data": {
      "text/plain": [
       "0"
      ]
     },
     "execution_count": 5,
     "metadata": {},
     "output_type": "execute_result"
    }
   ],
   "source": [
    "df.duplicated().sum()"
   ]
  },
  {
   "cell_type": "markdown",
   "id": "8cace2ac",
   "metadata": {},
   "source": [
    "## 2. Analysis\n",
    "\n",
    "### games played in the first 14 days"
   ]
  },
  {
   "cell_type": "code",
   "execution_count": 7,
   "id": "6f72641f",
   "metadata": {},
   "outputs": [
    {
     "data": {
      "text/plain": [
       "version\n",
       "gate_30    44700\n",
       "gate_40    45489\n",
       "Name: userid, dtype: int64"
      ]
     },
     "execution_count": 7,
     "metadata": {},
     "output_type": "execute_result"
    }
   ],
   "source": [
    "# lets see how many rows in each AB group\n",
    "df.groupby('version')['userid'].count()\n",
    "\n",
    "# both version have similar numbers"
   ]
  },
  {
   "cell_type": "code",
   "execution_count": 13,
   "id": "1b86b8f7",
   "metadata": {},
   "outputs": [
    {
     "data": {
      "text/plain": [
       "count    90189.000000\n",
       "mean        51.872457\n",
       "std        195.050858\n",
       "min          0.000000\n",
       "25%          5.000000\n",
       "50%         16.000000\n",
       "75%         51.000000\n",
       "max      49854.000000\n",
       "Name: sum_gamerounds, dtype: float64"
      ]
     },
     "execution_count": 13,
     "metadata": {},
     "output_type": "execute_result"
    }
   ],
   "source": [
    "df['sum_gamerounds'].describe()"
   ]
  },
  {
   "cell_type": "code",
   "execution_count": 14,
   "id": "32bf9d21",
   "metadata": {},
   "outputs": [
    {
     "data": {
      "text/plain": [
       "{'whiskers': [<matplotlib.lines.Line2D at 0x7f9ffda85360>,\n",
       "  <matplotlib.lines.Line2D at 0x7f9ffda85600>],\n",
       " 'caps': [<matplotlib.lines.Line2D at 0x7f9ffda858a0>,\n",
       "  <matplotlib.lines.Line2D at 0x7f9ffda85b40>],\n",
       " 'boxes': [<matplotlib.lines.Line2D at 0x7f9ffda850c0>],\n",
       " 'medians': [<matplotlib.lines.Line2D at 0x7f9ffda85de0>],\n",
       " 'fliers': [<matplotlib.lines.Line2D at 0x7f9ffda86080>],\n",
       " 'means': []}"
      ]
     },
     "execution_count": 14,
     "metadata": {},
     "output_type": "execute_result"
    },
    {
     "data": {
      "image/png": "[encoded data removed]",
      "text/plain": [
       "<Figure size 640x480 with 1 Axes>"
      ]
     },
     "metadata": {},
     "output_type": "display_data"
    }
   ],
   "source": [
    "df_gamerounds = df.groupby('sum_gamerounds')['userid'].count()\n",
    "plt.boxplot(df_gamerounds)"
   ]
  },
  {
   "cell_type": "code",
   "execution_count": 18,
   "id": "09acbbc0",
   "metadata": {},
   "outputs": [
    {
     "data": {
      "text/plain": [
       "Text(0, 0.5, 'User Count')"
      ]
     },
     "execution_count": 18,
     "metadata": {},
     "output_type": "execute_result"
    },
    {
     "data": {
      "image/png": "[encoded data removed]",
      "text/plain": [
       "<Figure size 640x480 with 1 Axes>"
      ]
     },
     "metadata": {},
     "output_type": "display_data"
    }
   ],
   "source": [
    "# lets see the distribution of users playing the game during first 14 days after installing\n",
    "ax = df_gamerounds.plot(x=\"sum_gamerounds\", y=\"userid\")\n",
    "plt.title(\"The distribution of players\", fontweight=\"bold\", size=14)\n",
    "plt.xlabel(\"total gamerounds\", size=12)\n",
    "plt.ylabel(\"number of player\", size=12)\n",
    "plt.show()\n",
    "\n",
    "# since the range is too wide, the plot is not very informative, lets set the game round to 200"
   ]
  },
  {
   "cell_type": "code",
   "execution_count": 20,
   "id": "ceb8c08e",
   "metadata": {
    "scrolled": false
   },
   "outputs": [
    {
     "data": {
      "image/png": "[encoded data removed]",
      "text/plain": [
       "<Figure size 640x480 with 1 Axes>"
      ]
     },
     "metadata": {},
     "output_type": "display_data"
    }
   ],
   "source": [
    "ax = df_gamerounds.head(200).plot(x=\"sum_gamerounds\", y=\"userid\")\n",
    "plt.title(\"The distribution of players\", fontweight=\"bold\", size=14)\n",
    "plt.xlabel(\"total gamerounds\", size=12)\n",
    "plt.ylabel(\"number of player\", size=12)\n",
    "plt.show()\n"
   ]
  },
  {
   "cell_type": "code",
   "execution_count": 22,
   "id": "64004231",
   "metadata": {},
   "outputs": [
    {
     "data": {
      "text/plain": [
       "3994"
      ]
     },
     "execution_count": 22,
     "metadata": {},
     "output_type": "execute_result"
    }
   ],
   "source": [
    "df[df['sum_gamerounds']==0]['userid'].count()"
   ]
  },
  {
   "cell_type": "markdown",
   "id": "15cc133c",
   "metadata": {},
   "source": [
    "The distribution is skewed, most players play less than 50 games after installing.  \n",
    "3994 players did not play the game at all after installing. A good point to figure out the reason.\n",
    "\n",
    "### Comparing Retention - 1\n",
    "Did the player come back and play 1 day after installing?  \n",
    "\n",
    "Q1: Overall percentage of players coming back to play the game after 1 day.  \n",
    "total player coming back / total player count\n",
    "\n",
    "Q2: Percentage of players coming back to play after 1 day for each version.  "
   ]
  },
  {
   "cell_type": "code",
   "execution_count": 29,
   "id": "0e353fd3",
   "metadata": {
    "scrolled": true
   },
   "outputs": [
    {
     "name": "stdout",
     "output_type": "stream",
     "text": [
      "44.5 % of overall players come back and play 1 day after installing.\n"
     ]
    }
   ],
   "source": [
    "# The overall perc of users that came back the day after they installed\n",
    "cb_1_day = df['retention_1'].sum() / df['retention_1'].count()\n",
    "perc_cb_1_day = round(cb_1_day*100, 1)\n",
    "print(perc_cb_1_day, '% of overall players come back and play 1 day after installing.')\n"
   ]
  },
  {
   "cell_type": "code",
   "execution_count": 45,
   "id": "f6bfb919",
   "metadata": {
    "scrolled": true
   },
   "outputs": [
    {
     "name": "stdout",
     "output_type": "stream",
     "text": [
      "44.8 % of a version players come back and play 1 day after installing.\n",
      "44.2 % of b version players come back and play 1 day after installing.\n"
     ]
    }
   ],
   "source": [
    "cb_1_day_ab = df.groupby('version')['retention_1'].sum() / df.groupby('version')['retention_1'].count()\n",
    "perc_cb_1_day_a = round((cb_1_day_ab.loc[cb_1_day_ab.index=='gate_30'].values[0])*100, 1)\n",
    "perc_cb_1_day_b = round((cb_1_day_ab.loc[cb_1_day_ab.index=='gate_40'].values[0])*100, 1)\n",
    "\n",
    "print(perc_cb_1_day_a, '% of a version players come back and play 1 day after installing.')\n",
    "print(perc_cb_1_day_b, '% of b version players come back and play 1 day after installing.')\n"
   ]
  },
  {
   "cell_type": "markdown",
   "id": "8d0057b2",
   "metadata": {},
   "source": [
    "From the result, we can see that there is a slightly drop in user retention when the gate is moved to level 40 compared to when it is level 30.   \n",
    "\n",
    "However, are we sure that putting gate at level 40 will be worse in the future too? To confirm this theory, we use bootstraping to find out.  \n",
    "\n",
    "### Bootstraping\n",
    "Bootstrapping is any test or metric that uses random sampling with replacement (e.g. mimicking the sampling process), and falls under the broader class of resampling methods.  \n",
    "The basic idea of bootstrapping is that inference about a population from sample data (sample → population) can be modelled by resampling the sample data and performing inference about a sample from resampled data (resampled → sample).  \n",
    "\n",
    "Refer: https://en.wikipedia.org/wiki/Bootstrapping_(statistics)"
   ]
  },
  {
   "cell_type": "code",
   "execution_count": null,
   "id": "c9ee87ce",
   "metadata": {},
   "outputs": [],
   "source": [
    "x"
   ]
  },
  {
   "cell_type": "code",
   "execution_count": null,
   "id": "dd9df32b",
   "metadata": {},
   "outputs": [],
   "source": []
  },
  {
   "cell_type": "code",
   "execution_count": null,
   "id": "315054f2",
   "metadata": {},
   "outputs": [],
   "source": []
  },
  {
   "cell_type": "code",
   "execution_count": null,
   "id": "4cf40979",
   "metadata": {},
   "outputs": [],
   "source": []
  },
  {
   "cell_type": "markdown",
   "id": "efb01708",
   "metadata": {},
   "source": [
    "### Comparing Retention - 7\n",
    "Did the player come back and play 7 days after installing?  \n",
    "\n",
    "Q1: Overall percentage of players coming back to play the game after 7 days.  \n",
    "Q2: Percentage of players coming back to play after 7 days for each version.  "
   ]
  },
  {
   "cell_type": "code",
   "execution_count": null,
   "id": "58890f8e",
   "metadata": {},
   "outputs": [],
   "source": []
  },
  {
   "cell_type": "code",
   "execution_count": null,
   "id": "b205bf01",
   "metadata": {},
   "outputs": [],
   "source": []
  },
  {
   "cell_type": "code",
   "execution_count": null,
   "id": "5df34470",
   "metadata": {},
   "outputs": [],
   "source": []
  }
 ],
 "metadata": {
  "kernelspec": {
   "display_name": "Python 3 (ipykernel)",
   "language": "python",
   "name": "python3"
  },
  "language_info": {
   "codemirror_mode": {
    "name": "ipython",
    "version": 3
   },
   "file_extension": ".py",
   "mimetype": "text/x-python",
   "name": "python",
   "nbconvert_exporter": "python",
   "pygments_lexer": "ipython3",
   "version": "3.10.9"
  }
 },
 "nbformat": 4,
 "nbformat_minor": 5
}
